{
 "cells": [
  {
   "cell_type": "markdown",
   "metadata": {},
   "source": [
    "# Monty Hall Game\n",
    "Super simple little \"game\" that simulates the Monty Hall doors. Only enter values 1, 2, and 3 or you'll break it. Now go win that car!"
   ]
  },
  {
   "cell_type": "code",
   "execution_count": 1,
   "metadata": {},
   "outputs": [],
   "source": [
    "import numpy as np\n",
    "import time"
   ]
  },
  {
   "cell_type": "code",
   "execution_count": 2,
   "metadata": {},
   "outputs": [],
   "source": [
    "def monty():\n",
    "# Assign doors to car and goats, no overlap\n",
    "    car = np.random.randint(1,4)\n",
    "    goat1 = np.random.randint(1,4)\n",
    "    while goat1 == car:\n",
    "        goat1 = np.random.randint(1,4)\n",
    "    goat2 = np.random.randint(1,4)\n",
    "    while goat2 == goat1 or goat2 == car:\n",
    "        goat2 = np.random.randint(1,4)\n",
    "# Ask for first input\n",
    "    choice1 = int(input(\"What door do you choose? \"))\n",
    "    time.sleep(1)\n",
    "# Reveal a goat\n",
    "    goats = [goat1, goat2]\n",
    "    goat_spot = None\n",
    "    for i in goats:\n",
    "        if i != choice1:\n",
    "            goat_spot = i\n",
    "    print(f'\\nThere is a goat behind door {goat_spot}.')\n",
    "    time.sleep(2)\n",
    "# Ask for second input\n",
    "    choice2 = int(input('\\nWhat door do you choose now? '))\n",
    "    time.sleep(1)\n",
    "# Result\n",
    "    if choice2 == car:\n",
    "        print(\"\\nYou won a car!\")\n",
    "    else:\n",
    "        print(\"\\nYou won a goat :(\")"
   ]
  },
  {
   "cell_type": "markdown",
   "metadata": {},
   "source": [
    "Example:"
   ]
  },
  {
   "cell_type": "code",
   "execution_count": 3,
   "metadata": {},
   "outputs": [
    {
     "name": "stdout",
     "output_type": "stream",
     "text": [
      "What door do you choose? 2\n",
      "\n",
      "There is a goat behind door 1.\n",
      "\n",
      "What door do you choose now? 3\n",
      "\n",
      "You won a car!\n"
     ]
    }
   ],
   "source": [
    "monty()"
   ]
  }
 ],
 "metadata": {
  "kernelspec": {
   "display_name": "Python [conda env:learn-env] *",
   "language": "python",
   "name": "conda-env-learn-env-py"
  },
  "language_info": {
   "codemirror_mode": {
    "name": "ipython",
    "version": 3
   },
   "file_extension": ".py",
   "mimetype": "text/x-python",
   "name": "python",
   "nbconvert_exporter": "python",
   "pygments_lexer": "ipython3",
   "version": "3.6.9"
  },
  "toc": {
   "base_numbering": 1,
   "nav_menu": {},
   "number_sections": true,
   "sideBar": true,
   "skip_h1_title": false,
   "title_cell": "Table of Contents",
   "title_sidebar": "Contents",
   "toc_cell": false,
   "toc_position": {},
   "toc_section_display": true,
   "toc_window_display": false
  },
  "varInspector": {
   "cols": {
    "lenName": 16,
    "lenType": 16,
    "lenVar": 40
   },
   "kernels_config": {
    "python": {
     "delete_cmd_postfix": "",
     "delete_cmd_prefix": "del ",
     "library": "var_list.py",
     "varRefreshCmd": "print(var_dic_list())"
    },
    "r": {
     "delete_cmd_postfix": ") ",
     "delete_cmd_prefix": "rm(",
     "library": "var_list.r",
     "varRefreshCmd": "cat(var_dic_list()) "
    }
   },
   "types_to_exclude": [
    "module",
    "function",
    "builtin_function_or_method",
    "instance",
    "_Feature"
   ],
   "window_display": false
  }
 },
 "nbformat": 4,
 "nbformat_minor": 2
}
